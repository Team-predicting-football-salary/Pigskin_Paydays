{
 "cells": [
  {
   "cell_type": "code",
   "execution_count": 1,
   "id": "0b9d3089",
   "metadata": {},
   "outputs": [],
   "source": [
    "import spacy"
   ]
  },
  {
   "cell_type": "code",
   "execution_count": 2,
   "id": "238019f2",
   "metadata": {},
   "outputs": [],
   "source": [
    "nlp = spacy.load('en_core_web_sm')"
   ]
  },
  {
   "attachments": {},
   "cell_type": "markdown",
   "id": "00f74a0a",
   "metadata": {},
   "source": [
    "# Stemming "
   ]
  },
  {
   "attachments": {},
   "cell_type": "markdown",
   "id": "e0875963",
   "metadata": {},
   "source": [
    "## porter stemmer"
   ]
  },
  {
   "cell_type": "code",
   "execution_count": 12,
   "id": "9382df32",
   "metadata": {},
   "outputs": [],
   "source": [
    "import nltk\n"
   ]
  },
  {
   "cell_type": "code",
   "execution_count": 13,
   "id": "2c1e93fc",
   "metadata": {},
   "outputs": [],
   "source": [
    "from nltk.stem.porter import PorterStemmer"
   ]
  },
  {
   "cell_type": "code",
   "execution_count": 14,
   "id": "a532aca6",
   "metadata": {},
   "outputs": [],
   "source": [
    "p_stemmer = PorterStemmer()"
   ]
  },
  {
   "cell_type": "code",
   "execution_count": 15,
   "id": "2d0c1a07",
   "metadata": {},
   "outputs": [],
   "source": [
    "words = ['run', 'runner', 'ran', 'runs', 'easily', 'fairly']"
   ]
  },
  {
   "cell_type": "code",
   "execution_count": 18,
   "id": "6383acfc",
   "metadata": {},
   "outputs": [
    {
     "name": "stdout",
     "output_type": "stream",
     "text": [
      "run---->run\n",
      "runner---->runner\n",
      "ran---->ran\n",
      "runs---->run\n",
      "easily---->easili\n",
      "fairly---->fairli\n"
     ]
    }
   ],
   "source": [
    "for word in words:\n",
    "    print(word + '---->' + p_stemmer.stem(word))"
   ]
  },
  {
   "cell_type": "code",
   "execution_count": null,
   "id": "052598ab",
   "metadata": {},
   "outputs": [],
   "source": [
    "mystring = 'We\\'re moving to L.A.!'"
   ]
  },
  {
   "cell_type": "code",
   "execution_count": 19,
   "id": "266a9b77",
   "metadata": {
    "scrolled": true
   },
   "outputs": [
    {
     "data": {
      "text/plain": [
       "\"we're moving to l.a.!\""
      ]
     },
     "execution_count": 19,
     "metadata": {},
     "output_type": "execute_result"
    }
   ],
   "source": [
    "p_stemmer.stem(mystring)"
   ]
  },
  {
   "attachments": {},
   "cell_type": "markdown",
   "id": "863722b0",
   "metadata": {},
   "source": [
    "# snowball stemmer"
   ]
  },
  {
   "cell_type": "code",
   "execution_count": 20,
   "id": "dcbc18bc",
   "metadata": {},
   "outputs": [],
   "source": [
    "from nltk.stem.snowball import SnowballStemmer"
   ]
  },
  {
   "cell_type": "code",
   "execution_count": 21,
   "id": "dbbbf449",
   "metadata": {},
   "outputs": [],
   "source": [
    "s_stemmer = SnowballStemmer(language ='english')"
   ]
  },
  {
   "cell_type": "code",
   "execution_count": 22,
   "id": "99ab4e7b",
   "metadata": {},
   "outputs": [
    {
     "name": "stdout",
     "output_type": "stream",
     "text": [
      "run---->run\n",
      "runner---->runner\n",
      "ran---->ran\n",
      "runs---->run\n",
      "easily---->easili\n",
      "fairly---->fair\n"
     ]
    }
   ],
   "source": [
    "for word in words:\n",
    "    print(word + '---->' + s_stemmer.stem(word))"
   ]
  },
  {
   "cell_type": "code",
   "execution_count": null,
   "id": "e7764e48",
   "metadata": {},
   "outputs": [],
   "source": [
    "s_stemmer.stem(word)"
   ]
  },
  {
   "attachments": {},
   "cell_type": "markdown",
   "id": "f949ed0d",
   "metadata": {},
   "source": [
    "# Tokenizing"
   ]
  },
  {
   "cell_type": "code",
   "execution_count": 7,
   "id": "0cd57c71",
   "metadata": {},
   "outputs": [
    {
     "data": {
      "text/plain": [
       "We're moving to L.A.!"
      ]
     },
     "execution_count": 7,
     "metadata": {},
     "output_type": "execute_result"
    }
   ],
   "source": [
    "mystring = 'We\\'re moving to L.A.!'\n",
    "doc = nlp(mystring)\n",
    "doc"
   ]
  },
  {
   "attachments": {},
   "cell_type": "markdown",
   "id": "7ea7725e",
   "metadata": {},
   "source": [
    "# Lemmatizing"
   ]
  },
  {
   "cell_type": "code",
   "execution_count": 8,
   "id": "4de926bd",
   "metadata": {},
   "outputs": [
    {
     "data": {
      "text/plain": [
       "'we be move to L.A. !'"
      ]
     },
     "execution_count": 8,
     "metadata": {},
     "output_type": "execute_result"
    }
   ],
   "source": [
    "lemmatized_text = ' '.join([token.lemma_ for token in doc])\n",
    "lemmatized_text"
   ]
  },
  {
   "cell_type": "code",
   "execution_count": 9,
   "id": "a58ff5e5",
   "metadata": {},
   "outputs": [
    {
     "name": "stdout",
     "output_type": "stream",
     "text": [
      "We \t PRON \t 16064069575701507746 \t we\n",
      "'re \t AUX \t 10382539506755952630 \t be\n",
      "moving \t VERB \t 13534686644065735227 \t move\n",
      "to \t ADP \t 3791531372978436496 \t to\n",
      "L.A. \t PROPN \t 11715335255722627455 \t L.A.\n",
      "! \t PUNCT \t 17494803046312582752 \t !\n"
     ]
    }
   ],
   "source": [
    "for token in doc:\n",
    "    print(token.text, '\\t', token.pos_, '\\t', token.lemma, '\\t', token.lemma_)"
   ]
  }
 ],
 "metadata": {
  "kernelspec": {
   "display_name": "Python 3 (ipykernel)",
   "language": "python",
   "name": "python3"
  },
  "language_info": {
   "codemirror_mode": {
    "name": "ipython",
    "version": 3
   },
   "file_extension": ".py",
   "mimetype": "text/x-python",
   "name": "python",
   "nbconvert_exporter": "python",
   "pygments_lexer": "ipython3",
   "version": "3.9.16"
  }
 },
 "nbformat": 4,
 "nbformat_minor": 5
}
