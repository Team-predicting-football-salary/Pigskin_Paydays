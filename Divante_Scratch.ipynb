{
 "cells": [
  {
   "cell_type": "code",
   "execution_count": 4,
   "id": "b3c1c987",
   "metadata": {},
   "outputs": [],
   "source": [
    "from selenium import webdriver\n",
    "from selenium.webdriver.chrome.service import Service\n",
    "from selenium.webdriver.common.keys import Keys\n",
    "from selenium.webdriver.common.by import By\n",
    "from selenium.webdriver.common.action_chains import ActionChains\n",
    "from selenium.webdriver.support.ui import Select, WebDriverWait\n",
    "from selenium.webdriver.support import expected_conditions as EC\n",
    "\n",
    "from webdriver_manager.chrome import ChromeDriverManager\n",
    "\n",
    "import time as t\n",
    "import os"
   ]
  },
  {
   "cell_type": "code",
   "execution_count": 8,
   "id": "2e54399e",
   "metadata": {},
   "outputs": [],
   "source": [
    "user = os.getenv(\"githubUSER\")\n",
    "pswd = os.getenv(\"githubPSWD\")\n",
    "                 \n",
    "base_url = \"https://nextgenstats.nfl.com/stats/passing/2022/REG/all#yards\"\n",
    "driver = webdriver.Chrome(service= Service())"
   ]
  },
  {
   "cell_type": "code",
   "execution_count": 9,
   "id": "b422f9e8",
   "metadata": {},
   "outputs": [],
   "source": [
    "driver.get(base_url)\n",
    "driver.maximize_window()\n"
   ]
  },
  {
   "cell_type": "code",
   "execution_count": null,
   "id": "5165eb49",
   "metadata": {},
   "outputs": [],
   "source": [
    "tr_elements = driver.find_elements(By.XPATH, '''//tr [@class=\"el-table__row\"]''')"
   ]
  },
  {
   "cell_type": "code",
   "execution_count": 24,
   "id": "d4bf0b89",
   "metadata": {},
   "outputs": [],
   "source": [
    "tr_elements2 = driver.find_elements(By.XPATH, '''//tr [@class=\"el-table__row el-table__row--striped\"]''')"
   ]
  },
  {
   "cell_type": "code",
   "execution_count": 22,
   "id": "e272179b",
   "metadata": {},
   "outputs": [
    {
     "data": {
      "text/plain": [
       "'CIN\\n2.55\\n5.6\\n7.2\\n-1.6\\n15.3\\n50.2\\n-1.4\\n606\\n4475\\n35\\n12\\n100.8\\n68.3\\n66.1\\n2.2'"
      ]
     },
     "execution_count": 22,
     "metadata": {},
     "output_type": "execute_result"
    }
   ],
   "source": [
    "tr_elements[2].text"
   ]
  },
  {
   "cell_type": "code",
   "execution_count": 25,
   "id": "37ee8515",
   "metadata": {},
   "outputs": [
    {
     "data": {
      "text/plain": [
       "'LAC\\n2.86\\n4.5\\n6.7\\n-2.1\\n14.6\\n57.2\\n-1.9\\n699\\n4739\\n25\\n10\\n93.2\\n68.2\\n66.8\\n1.5'"
      ]
     },
     "execution_count": 25,
     "metadata": {},
     "output_type": "execute_result"
    }
   ],
   "source": [
    "tr_elements2[0].text"
   ]
  },
  {
   "cell_type": "code",
   "execution_count": null,
   "id": "0e2ebb95",
   "metadata": {},
   "outputs": [],
   "source": [
    "driver.find_elements(By.XPATH, '''//a[@class = 'js-navigation-open Link--primary']''')"
   ]
  }
 ],
 "metadata": {
  "kernelspec": {
   "display_name": "Python 3 (ipykernel)",
   "language": "python",
   "name": "python3"
  },
  "language_info": {
   "codemirror_mode": {
    "name": "ipython",
    "version": 3
   },
   "file_extension": ".py",
   "mimetype": "text/x-python",
   "name": "python",
   "nbconvert_exporter": "python",
   "pygments_lexer": "ipython3",
   "version": "3.9.16"
  }
 },
 "nbformat": 4,
 "nbformat_minor": 5
}
